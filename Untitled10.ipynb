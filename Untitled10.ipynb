{
  "nbformat": 4,
  "nbformat_minor": 0,
  "metadata": {
    "colab": {
      "provenance": [],
      "authorship_tag": "ABX9TyP4ie1mjPVYk1o49RW8mECt",
      "include_colab_link": true
    },
    "kernelspec": {
      "name": "python3",
      "display_name": "Python 3"
    },
    "language_info": {
      "name": "python"
    }
  },
  "cells": [
    {
      "cell_type": "markdown",
      "metadata": {
        "id": "view-in-github",
        "colab_type": "text"
      },
      "source": [
        "<a href=\"https://colab.research.google.com/github/Suchada2000/test2/blob/main/Untitled10.ipynb\" target=\"_parent\"><img src=\"https://colab.research.google.com/assets/colab-badge.svg\" alt=\"Open In Colab\"/></a>"
      ]
    },
    {
      "cell_type": "markdown",
      "source": [
        "python 01\n",
        "\n",
        "integer ตัวเลขจำนวนเต็ม\n",
        "\n",
        "float เลขทศนิยม\n",
        "\n",
        "string ข้อความ\n",
        "\n",
        "boolean มีค่าแค่ T F\n"
      ],
      "metadata": {
        "id": "3cvI3PP0UZ6Q"
      }
    },
    {
      "cell_type": "code",
      "execution_count": 2,
      "metadata": {
        "colab": {
          "base_uri": "https://localhost:8080/"
        },
        "id": "lM385RJWCZuZ",
        "outputId": "03e0a43d-080f-4c2a-b8be-7f84117184fe"
      },
      "outputs": [
        {
          "output_type": "execute_result",
          "data": {
            "text/plain": [
              "9"
            ]
          },
          "metadata": {},
          "execution_count": 2
        }
      ],
      "source": [
        "x = int('5') #แปลงข้อความให้เป็นตัวเลขจำนวนเต็มเพื่อจะได้บวกกัน\n",
        "y = 4\n",
        "z = x + y\n",
        "z"
      ]
    },
    {
      "cell_type": "code",
      "source": [
        "x = '5'\n",
        "y = str(4)\n",
        "z = x + y\n",
        "z"
      ],
      "metadata": {
        "colab": {
          "base_uri": "https://localhost:8080/",
          "height": 34
        },
        "id": "-sZlSEErWMNt",
        "outputId": "559ebdfd-de8c-4e70-d7bb-fec2537a206b"
      },
      "execution_count": 3,
      "outputs": [
        {
          "output_type": "execute_result",
          "data": {
            "text/plain": [
              "'54'"
            ],
            "application/vnd.google.colaboratory.intrinsic+json": {
              "type": "string"
            }
          },
          "metadata": {},
          "execution_count": 3
        }
      ]
    },
    {
      "cell_type": "code",
      "source": [
        "x = 5\n",
        "y = 4"
      ],
      "metadata": {
        "id": "7ovO9SK3DMJ-"
      },
      "execution_count": 6,
      "outputs": []
    },
    {
      "cell_type": "code",
      "source": [
        "z = x%y\n",
        "z\n",
        "#%คือเศษ"
      ],
      "metadata": {
        "colab": {
          "base_uri": "https://localhost:8080/"
        },
        "id": "VloGHKKaWws0",
        "outputId": "46fb1cf8-197f-4cfe-87fb-4678224a12c4"
      },
      "execution_count": 7,
      "outputs": [
        {
          "output_type": "execute_result",
          "data": {
            "text/plain": [
              "1"
            ]
          },
          "metadata": {},
          "execution_count": 7
        }
      ]
    },
    {
      "cell_type": "code",
      "source": [
        "c = x//y\n",
        "#หารปัดเศษทิ้ง\n",
        "c"
      ],
      "metadata": {
        "colab": {
          "base_uri": "https://localhost:8080/"
        },
        "id": "J2zYRFTmW0cA",
        "outputId": "74f009d6-12a7-41d2-a0bb-290b3a10409b"
      },
      "execution_count": 10,
      "outputs": [
        {
          "output_type": "execute_result",
          "data": {
            "text/plain": [
              "1"
            ]
          },
          "metadata": {},
          "execution_count": 10
        }
      ]
    },
    {
      "cell_type": "markdown",
      "source": [
        "!=ไม่เท่ากับ\n",
        "\n",
        "== เท่ากับ\n",
        "\n",
        "ตรรกศาสตร์\n",
        "\n",
        "and T and T = T\n",
        "or T or F =  T"
      ],
      "metadata": {
        "id": "ORXJL32VXYJr"
      }
    },
    {
      "cell_type": "code",
      "source": [],
      "metadata": {
        "id": "MODglF8XDN0J"
      },
      "execution_count": null,
      "outputs": []
    }
  ]
}