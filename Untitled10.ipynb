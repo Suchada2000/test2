{
  "nbformat": 4,
  "nbformat_minor": 0,
  "metadata": {
    "colab": {
      "provenance": [],
      "authorship_tag": "ABX9TyPaZcPNTbhFr5Gk2MQSHTs6",
      "include_colab_link": true
    },
    "kernelspec": {
      "name": "python3",
      "display_name": "Python 3"
    },
    "language_info": {
      "name": "python"
    }
  },
  "cells": [
    {
      "cell_type": "markdown",
      "metadata": {
        "id": "view-in-github",
        "colab_type": "text"
      },
      "source": [
        "<a href=\"https://colab.research.google.com/github/Suchada2000/test2/blob/main/Untitled10.ipynb\" target=\"_parent\"><img src=\"https://colab.research.google.com/assets/colab-badge.svg\" alt=\"Open In Colab\"/></a>"
      ]
    },
    {
      "cell_type": "markdown",
      "source": [
        "python 01\n",
        "\n",
        "integer ตัวเลขจำนวนเต็ม\n",
        "\n",
        "float เลขทศนิยม\n",
        "\n",
        "string ข้อความ\n",
        "\n",
        "boolean มีค่าแค่ T F\n"
      ],
      "metadata": {
        "id": "3cvI3PP0UZ6Q"
      }
    },
    {
      "cell_type": "code",
      "execution_count": null,
      "metadata": {
        "colab": {
          "base_uri": "https://localhost:8080/"
        },
        "id": "lM385RJWCZuZ",
        "outputId": "03e0a43d-080f-4c2a-b8be-7f84117184fe"
      },
      "outputs": [
        {
          "output_type": "execute_result",
          "data": {
            "text/plain": [
              "9"
            ]
          },
          "metadata": {},
          "execution_count": 2
        }
      ],
      "source": [
        "x = int('5') #แปลงข้อความให้เป็นตัวเลขจำนวนเต็มเพื่อจะได้บวกกัน\n",
        "y = 4\n",
        "z = x + y\n",
        "z"
      ]
    },
    {
      "cell_type": "code",
      "source": [
        "x = '5'\n",
        "y = str(4)\n",
        "z = x + y\n",
        "z"
      ],
      "metadata": {
        "colab": {
          "base_uri": "https://localhost:8080/",
          "height": 34
        },
        "id": "-sZlSEErWMNt",
        "outputId": "559ebdfd-de8c-4e70-d7bb-fec2537a206b"
      },
      "execution_count": null,
      "outputs": [
        {
          "output_type": "execute_result",
          "data": {
            "text/plain": [
              "'54'"
            ],
            "application/vnd.google.colaboratory.intrinsic+json": {
              "type": "string"
            }
          },
          "metadata": {},
          "execution_count": 3
        }
      ]
    },
    {
      "cell_type": "code",
      "source": [
        "x = 5\n",
        "y = 4"
      ],
      "metadata": {
        "id": "7ovO9SK3DMJ-"
      },
      "execution_count": null,
      "outputs": []
    },
    {
      "cell_type": "code",
      "source": [
        "z = x%y\n",
        "z\n",
        "#%คือเศษ"
      ],
      "metadata": {
        "colab": {
          "base_uri": "https://localhost:8080/"
        },
        "id": "VloGHKKaWws0",
        "outputId": "46fb1cf8-197f-4cfe-87fb-4678224a12c4"
      },
      "execution_count": null,
      "outputs": [
        {
          "output_type": "execute_result",
          "data": {
            "text/plain": [
              "1"
            ]
          },
          "metadata": {},
          "execution_count": 7
        }
      ]
    },
    {
      "cell_type": "code",
      "source": [
        "c = x//y\n",
        "#หารปัดเศษทิ้ง\n",
        "c"
      ],
      "metadata": {
        "colab": {
          "base_uri": "https://localhost:8080/"
        },
        "id": "J2zYRFTmW0cA",
        "outputId": "74f009d6-12a7-41d2-a0bb-290b3a10409b"
      },
      "execution_count": null,
      "outputs": [
        {
          "output_type": "execute_result",
          "data": {
            "text/plain": [
              "1"
            ]
          },
          "metadata": {},
          "execution_count": 10
        }
      ]
    },
    {
      "cell_type": "markdown",
      "source": [
        "!=ไม่เท่ากับ\n",
        "\n",
        "== เท่ากับ\n",
        "\n",
        "ตรรกศาสตร์\n",
        "\n",
        "and T and T = T\n",
        "or T or F =  T"
      ],
      "metadata": {
        "id": "ORXJL32VXYJr"
      }
    },
    {
      "cell_type": "code",
      "source": [
        "score = 10\n",
        "if score >= 80:\n",
        "  print('Grade A')\n",
        "elif score >=70:\n",
        "  print('Grade B')\n",
        "else:\n",
        "  print('Grade C')"
      ],
      "metadata": {
        "id": "pnsx5snizWzi",
        "outputId": "3e303b8c-5c0b-4ca1-812b-688e3913e4e4",
        "colab": {
          "base_uri": "https://localhost:8080/"
        }
      },
      "execution_count": 9,
      "outputs": [
        {
          "output_type": "stream",
          "name": "stdout",
          "text": [
            "Grade C\n"
          ]
        }
      ]
    },
    {
      "cell_type": "code",
      "source": [
        "for i in range(1, 5):\n",
        "  double = i*2\n",
        "print(double)"
      ],
      "metadata": {
        "id": "OnoBy5zW2ILl",
        "outputId": "5d5c9db2-4a66-4835-c55f-ae262fa4fb09",
        "colab": {
          "base_uri": "https://localhost:8080/"
        }
      },
      "execution_count": 16,
      "outputs": [
        {
          "output_type": "stream",
          "name": "stdout",
          "text": [
            "8\n"
          ]
        }
      ]
    },
    {
      "cell_type": "code",
      "source": [
        "for i in range(1, 5):\n",
        "  if i%3 ==0:\n",
        "    continue\n",
        "  print(i)\n",
        "  #ค่าเริ่มต้นคือ0แต่วน5รอบเลขสุดท้ายเลยเป็น4"
      ],
      "metadata": {
        "id": "YbeShDIZzpQD",
        "outputId": "afa3a6a0-6d8c-442f-b9f0-2c4fed7c718e",
        "colab": {
          "base_uri": "https://localhost:8080/"
        }
      },
      "execution_count": 21,
      "outputs": [
        {
          "output_type": "stream",
          "name": "stdout",
          "text": [
            "1\n",
            "2\n",
            "4\n"
          ]
        }
      ]
    },
    {
      "cell_type": "code",
      "source": [
        "for i in range(1, 5):\n",
        "  if i%3 ==0:\n",
        "    break\n",
        "  print(i)"
      ],
      "metadata": {
        "id": "PCMEpr351Fy_",
        "outputId": "20f7ff05-3290-42ec-a0c9-17c9e52740b7",
        "colab": {
          "base_uri": "https://localhost:8080/"
        }
      },
      "execution_count": 22,
      "outputs": [
        {
          "output_type": "stream",
          "name": "stdout",
          "text": [
            "1\n",
            "2\n"
          ]
        }
      ]
    },
    {
      "cell_type": "markdown",
      "source": [
        "ฟังก์ชั่น"
      ],
      "metadata": {
        "id": "wkwAhgqS4Aze"
      }
    },
    {
      "cell_type": "code",
      "source": [
        "def get_box_area():\n",
        "\n",
        "  w=4\n",
        "  l=4\n",
        "  h=2\n",
        "  box_area=w*l*h\n",
        "  print(box_area)\n",
        "\n",
        "get_box_area()"
      ],
      "metadata": {
        "id": "ZWEpU5g-4rzq",
        "outputId": "a70caa39-f580-4fa2-96ba-44ccc4bf6488",
        "colab": {
          "base_uri": "https://localhost:8080/"
        }
      },
      "execution_count": 32,
      "outputs": [
        {
          "output_type": "stream",
          "name": "stdout",
          "text": [
            "32\n"
          ]
        }
      ]
    },
    {
      "cell_type": "code",
      "source": [
        "def get_box_area(w,l,h):\n",
        "\n",
        "  box_area=w*l*h\n",
        "  print(box_area)\n",
        "\n",
        "get_box_area(4,4,2)\n",
        "get_box_area(w=1,l=1,h=1)\n"
      ],
      "metadata": {
        "id": "G-r8uZYU2z2m",
        "outputId": "8a6b0540-06fc-4691-f838-eab06aa1c259",
        "colab": {
          "base_uri": "https://localhost:8080/"
        }
      },
      "execution_count": 34,
      "outputs": [
        {
          "output_type": "stream",
          "name": "stdout",
          "text": [
            "32\n",
            "1\n"
          ]
        }
      ]
    },
    {
      "cell_type": "code",
      "source": [
        "def get_box_area(w,l,h):\n",
        "  if w<0 or l<0 or h<0:\n",
        "    return 0\n",
        "  box_area=w*l*h\n",
        "  return box_area\n",
        "\n",
        "box1 = get_box_area(4,-4,2)\n",
        "box2 = get_box_area(w=1,l=1,h=1)\n",
        "\n",
        "print(box1)\n"
      ],
      "metadata": {
        "id": "y1YTrniZ5fRF",
        "outputId": "0ff86410-14fe-4483-c77b-8f4838ace7cd",
        "colab": {
          "base_uri": "https://localhost:8080/"
        }
      },
      "execution_count": 37,
      "outputs": [
        {
          "output_type": "stream",
          "name": "stdout",
          "text": [
            "0\n"
          ]
        }
      ]
    },
    {
      "cell_type": "markdown",
      "source": [
        "แยกไฟล์ออกมา แล้วใช้importในการเรียก"
      ],
      "metadata": {
        "id": "g3hzNplO6iTe"
      }
    },
    {
      "cell_type": "code",
      "source": [
        "import shape as s #shapeคือชื่อไฟล์\n",
        "\n",
        "circle = s.get_circle_area(10)\n",
        "print(circle)\n",
        "\n",
        "triangle_area(10,5)\n",
        "print(triangle)\n"
      ],
      "metadata": {
        "id": "v6ZYkMWD5n5d"
      },
      "execution_count": null,
      "outputs": []
    },
    {
      "cell_type": "code",
      "source": [
        "#ไฟล์shape\n",
        "def get_circle_area(radius):\n",
        "  return 22/7*(radius**2)\n",
        "\n",
        "def get_triangle_area(width,height):\n",
        "  return 1/2 * width*height\n"
      ],
      "metadata": {
        "id": "2_d9C83c7A6a"
      },
      "execution_count": null,
      "outputs": []
    },
    {
      "cell_type": "code",
      "source": [
        "sudo apt-get install xvfb\n",
        "xvfb-run python your_script.py"
      ],
      "metadata": {
        "id": "5DqDbQh89WYz",
        "outputId": "c30e8351-747b-4fba-e04c-efcd012b89a6",
        "colab": {
          "base_uri": "https://localhost:8080/",
          "height": 106
        }
      },
      "execution_count": 43,
      "outputs": [
        {
          "output_type": "error",
          "ename": "SyntaxError",
          "evalue": "invalid syntax (<ipython-input-43-dc9c2c7bee03>, line 1)",
          "traceback": [
            "\u001b[0;36m  File \u001b[0;32m\"<ipython-input-43-dc9c2c7bee03>\"\u001b[0;36m, line \u001b[0;32m1\u001b[0m\n\u001b[0;31m    sudo apt-get install xvfb\u001b[0m\n\u001b[0m         ^\u001b[0m\n\u001b[0;31mSyntaxError\u001b[0m\u001b[0;31m:\u001b[0m invalid syntax\n"
          ]
        }
      ]
    },
    {
      "cell_type": "code",
      "source": [
        "import tkinter as tk\n",
        "\n",
        "window = tk.Tk()\n",
        "window.title('JustPython')\n",
        "window.minsize(width=400,height=400)\n",
        "\n",
        "window.mainloop()"
      ],
      "metadata": {
        "id": "HKa5Mzwx748X",
        "outputId": "2b115089-8c38-4d19-a23d-ae786134c339",
        "colab": {
          "base_uri": "https://localhost:8080/",
          "height": 332
        }
      },
      "execution_count": 47,
      "outputs": [
        {
          "output_type": "error",
          "ename": "TclError",
          "evalue": "no display name and no $DISPLAY environment variable",
          "traceback": [
            "\u001b[0;31m---------------------------------------------------------------------------\u001b[0m",
            "\u001b[0;31mTclError\u001b[0m                                  Traceback (most recent call last)",
            "\u001b[0;32m<ipython-input-47-7f791b164c02>\u001b[0m in \u001b[0;36m<cell line: 3>\u001b[0;34m()\u001b[0m\n\u001b[1;32m      1\u001b[0m \u001b[0;32mimport\u001b[0m \u001b[0mtkinter\u001b[0m \u001b[0;32mas\u001b[0m \u001b[0mtk\u001b[0m\u001b[0;34m\u001b[0m\u001b[0;34m\u001b[0m\u001b[0m\n\u001b[1;32m      2\u001b[0m \u001b[0;34m\u001b[0m\u001b[0m\n\u001b[0;32m----> 3\u001b[0;31m \u001b[0mwindow\u001b[0m \u001b[0;34m=\u001b[0m \u001b[0mtk\u001b[0m\u001b[0;34m.\u001b[0m\u001b[0mTk\u001b[0m\u001b[0;34m(\u001b[0m\u001b[0;34m)\u001b[0m\u001b[0;34m\u001b[0m\u001b[0;34m\u001b[0m\u001b[0m\n\u001b[0m\u001b[1;32m      4\u001b[0m \u001b[0mwindow\u001b[0m\u001b[0;34m.\u001b[0m\u001b[0mtitle\u001b[0m\u001b[0;34m(\u001b[0m\u001b[0;34m'JustPython'\u001b[0m\u001b[0;34m)\u001b[0m\u001b[0;34m\u001b[0m\u001b[0;34m\u001b[0m\u001b[0m\n\u001b[1;32m      5\u001b[0m \u001b[0mwindow\u001b[0m\u001b[0;34m.\u001b[0m\u001b[0mminsize\u001b[0m\u001b[0;34m(\u001b[0m\u001b[0mwidth\u001b[0m\u001b[0;34m=\u001b[0m\u001b[0;36m400\u001b[0m\u001b[0;34m,\u001b[0m\u001b[0mheight\u001b[0m\u001b[0;34m=\u001b[0m\u001b[0;36m400\u001b[0m\u001b[0;34m)\u001b[0m\u001b[0;34m\u001b[0m\u001b[0;34m\u001b[0m\u001b[0m\n",
            "\u001b[0;32m/usr/lib/python3.10/tkinter/__init__.py\u001b[0m in \u001b[0;36m__init__\u001b[0;34m(self, screenName, baseName, className, useTk, sync, use)\u001b[0m\n\u001b[1;32m   2297\u001b[0m                 \u001b[0mbaseName\u001b[0m \u001b[0;34m=\u001b[0m \u001b[0mbaseName\u001b[0m \u001b[0;34m+\u001b[0m \u001b[0mext\u001b[0m\u001b[0;34m\u001b[0m\u001b[0;34m\u001b[0m\u001b[0m\n\u001b[1;32m   2298\u001b[0m         \u001b[0minteractive\u001b[0m \u001b[0;34m=\u001b[0m \u001b[0;32mFalse\u001b[0m\u001b[0;34m\u001b[0m\u001b[0;34m\u001b[0m\u001b[0m\n\u001b[0;32m-> 2299\u001b[0;31m         \u001b[0mself\u001b[0m\u001b[0;34m.\u001b[0m\u001b[0mtk\u001b[0m \u001b[0;34m=\u001b[0m \u001b[0m_tkinter\u001b[0m\u001b[0;34m.\u001b[0m\u001b[0mcreate\u001b[0m\u001b[0;34m(\u001b[0m\u001b[0mscreenName\u001b[0m\u001b[0;34m,\u001b[0m \u001b[0mbaseName\u001b[0m\u001b[0;34m,\u001b[0m \u001b[0mclassName\u001b[0m\u001b[0;34m,\u001b[0m \u001b[0minteractive\u001b[0m\u001b[0;34m,\u001b[0m \u001b[0mwantobjects\u001b[0m\u001b[0;34m,\u001b[0m \u001b[0museTk\u001b[0m\u001b[0;34m,\u001b[0m \u001b[0msync\u001b[0m\u001b[0;34m,\u001b[0m \u001b[0muse\u001b[0m\u001b[0;34m)\u001b[0m\u001b[0;34m\u001b[0m\u001b[0;34m\u001b[0m\u001b[0m\n\u001b[0m\u001b[1;32m   2300\u001b[0m         \u001b[0;32mif\u001b[0m \u001b[0museTk\u001b[0m\u001b[0;34m:\u001b[0m\u001b[0;34m\u001b[0m\u001b[0;34m\u001b[0m\u001b[0m\n\u001b[1;32m   2301\u001b[0m             \u001b[0mself\u001b[0m\u001b[0;34m.\u001b[0m\u001b[0m_loadtk\u001b[0m\u001b[0;34m(\u001b[0m\u001b[0;34m)\u001b[0m\u001b[0;34m\u001b[0m\u001b[0;34m\u001b[0m\u001b[0m\n",
            "\u001b[0;31mTclError\u001b[0m: no display name and no $DISPLAY environment variable"
          ]
        }
      ]
    },
    {
      "cell_type": "code",
      "source": [],
      "metadata": {
        "id": "jySc8P-W8frI"
      },
      "execution_count": null,
      "outputs": []
    }
  ]
}